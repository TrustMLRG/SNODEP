{
 "cells": [
  {
   "cell_type": "markdown",
   "metadata": {},
   "source": [
    "RNA-Velo or GP methods"
   ]
  },
  {
   "cell_type": "code",
   "execution_count": 1,
   "metadata": {},
   "outputs": [],
   "source": [
    "import pandas as pd\n"
   ]
  },
  {
   "cell_type": "code",
   "execution_count": 4,
   "metadata": {},
   "outputs": [
    {
     "name": "stdout",
     "output_type": "stream",
     "text": [
      "Collecting gpytorch\n",
      "  Downloading gpytorch-1.13-py3-none-any.whl.metadata (8.0 kB)\n",
      "Collecting scanpy\n",
      "  Downloading scanpy-1.10.2-py3-none-any.whl.metadata (9.3 kB)\n",
      "\u001b[31mERROR: Could not find a version that satisfies the requirement gp_fates (from versions: none)\u001b[0m\u001b[31m\n",
      "\u001b[0m\u001b[31mERROR: No matching distribution found for gp_fates\u001b[0m\u001b[31m\n",
      "\u001b[0mNote: you may need to restart the kernel to use updated packages.\n"
     ]
    }
   ],
   "source": [
    "pip install gpytorch scanpy gp_fates"
   ]
  },
  {
   "cell_type": "code",
   "execution_count": 3,
   "metadata": {},
   "outputs": [],
   "source": [
    "# Example of loading and concatenating all CSVs into a single dataframe\n",
    "time_points = []\n",
    "data_frames = []\n",
    "di_path= '/Users/rssantanu/Desktop/codebase/neural_process_repo/GSE_to_di_csv/extracted_data/GSE167011/m171'    \n",
    "for day in range(0, 13):  # d0 to d12\n",
    "    df = pd.read_csv(f'{di_path}/d{day}.csv', index_col=0)\n",
    "    data_frames.append(df)\n",
    "    time_points.extend([day] * df.shape[1])\n",
    "\n",
    "combined_data = pd.concat(data_frames, axis=1)  # Combine all time points\n",
    "time_labels = pd.Series(time_points, index=combined_data.columns, name='time_point')\n"
   ]
  }
 ],
 "metadata": {
  "kernelspec": {
   "display_name": "gene_expression_312",
   "language": "python",
   "name": "python3"
  },
  "language_info": {
   "codemirror_mode": {
    "name": "ipython",
    "version": 3
   },
   "file_extension": ".py",
   "mimetype": "text/x-python",
   "name": "python",
   "nbconvert_exporter": "python",
   "pygments_lexer": "ipython3",
   "version": "3.8.18"
  }
 },
 "nbformat": 4,
 "nbformat_minor": 2
}
