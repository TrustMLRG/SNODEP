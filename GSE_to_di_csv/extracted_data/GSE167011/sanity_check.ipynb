{
 "cells": [
  {
   "cell_type": "code",
   "execution_count": 2,
   "metadata": {},
   "outputs": [],
   "source": [
    "import os\n",
    "import numpy as np\n",
    "import pandas as pd"
   ]
  },
  {
   "cell_type": "code",
   "execution_count": 4,
   "metadata": {},
   "outputs": [
    {
     "name": "stdout",
     "output_type": "stream",
     "text": [
      "glucose-glutaminolysis genes:112\n",
      "dopamine genes:21\n",
      "ggsl genes:196\n",
      "m171 genes:623\n",
      "mhc-i genes:281\n",
      "mgf genes:83\n",
      "ironion genes:136\n",
      "m171_nad genes:550\n",
      "glucose-tcacycle genes:84\n",
      "histamine genes:23\n",
      "serotonin genes:24\n",
      "bcaa genes:58\n",
      "acetylcholine genes:76\n",
      "glucose-glutamine genes:154\n"
     ]
    }
   ],
   "source": [
    "all_pathways= os.listdir('./')\n",
    "for p in all_pathways:\n",
    "    try:\n",
    "        df= pd.read_csv(f'./{p}/d0.csv')\n",
    "        print(f'{p} genes:{df.shape[0]}')\n",
    "    except:\n",
    "        pass"
   ]
  }
 ],
 "metadata": {
  "kernelspec": {
   "display_name": "gene_expression_312",
   "language": "python",
   "name": "python3"
  },
  "language_info": {
   "codemirror_mode": {
    "name": "ipython",
    "version": 3
   },
   "file_extension": ".py",
   "mimetype": "text/x-python",
   "name": "python",
   "nbconvert_exporter": "python",
   "pygments_lexer": "ipython3",
   "version": "3.12.5"
  }
 },
 "nbformat": 4,
 "nbformat_minor": 2
}
